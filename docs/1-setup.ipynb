{
 "cells": [
  {
   "cell_type": "markdown",
   "id": "67fd9a36",
   "metadata": {},
   "source": [
    "# Team: Setup the project"
   ]
  },
  {
   "cell_type": "code",
   "execution_count": null,
   "id": "6eabe3bd",
   "metadata": {
    "tags": [
     "hide-output"
    ]
   },
   "outputs": [],
   "source": [
    "!lamin login testuser1\n",
    "!lamin init --storage ./mycrispr --schema bionty"
   ]
  },
  {
   "cell_type": "code",
   "execution_count": null,
   "id": "ab2bb2cf",
   "metadata": {},
   "outputs": [],
   "source": [
    "import lamindb as ln"
   ]
  },
  {
   "cell_type": "markdown",
   "id": "ec53b54e",
   "metadata": {},
   "source": [
    "Two users within an organization collaborate on this project:\n",
    "\n",
    "- `testuser1`: Project lead, performs wetlab experiments.\n",
    "- `testuser2`: Data scientist, performs computational analysis."
   ]
  },
  {
   "cell_type": "markdown",
   "id": "7885ca43",
   "metadata": {},
   "source": [
    "`testuser1` creates a project label:"
   ]
  },
  {
   "cell_type": "code",
   "execution_count": null,
   "id": "881f05ec",
   "metadata": {},
   "outputs": [],
   "source": [
    "crispr_project = ln.ULabel(\n",
    "    name=\"CRISPRa T cells\",\n",
    "    description=(\n",
    "        \"CRISPR activation screen to decode stimulation responses in primary human T\"\n",
    "        \" cells\"\n",
    "    ),\n",
    ")\n",
    "crispr_project.save()\n",
    "\n",
    "is_project = ln.ULabel(name=\"is_project\")\n",
    "is_project.save()\n",
    "\n",
    "crispr_project.parents.add(is_project)\n",
    "\n",
    "crispr_project.view_parents()"
   ]
  },
  {
   "cell_type": "markdown",
   "id": "af4bc549",
   "metadata": {},
   "source": [
    "The project is modeled on [Schmidt _et al._, Science (2022)](https://www.science.org/doi/10.1126/science.abj4008)."
   ]
  },
  {
   "cell_type": "markdown",
   "id": "45a5974a",
   "metadata": {},
   "source": [
    "Let's see what's in the database:"
   ]
  },
  {
   "cell_type": "code",
   "execution_count": null,
   "id": "3bdb55b5",
   "metadata": {
    "tags": [
     "hide-output"
    ]
   },
   "outputs": [],
   "source": [
    "ln.view()"
   ]
  }
 ],
 "metadata": {
  "kernelspec": {
   "display_name": "Python 3 (ipykernel)",
   "language": "python",
   "name": "python3"
  },
  "language_info": {
   "codemirror_mode": {
    "name": "ipython",
    "version": 3
   },
   "file_extension": ".py",
   "mimetype": "text/x-python",
   "name": "python",
   "nbconvert_exporter": "python",
   "pygments_lexer": "ipython3",
   "version": "3.10.13"
  },
  "nbproject": {
   "id": "1qgezw298UrW",
   "parent": null,
   "pypackage": null,
   "time_init": "2022-08-30T22:17:51.266023+00:00",
   "version": "draft"
  },
  "vscode": {
   "interpreter": {
    "hash": "ae1fefc8646a06dd2e75004cd934adda7c5727b046986a772e3b44b0ffba9754"
   }
  }
 },
 "nbformat": 4,
 "nbformat_minor": 5
}
