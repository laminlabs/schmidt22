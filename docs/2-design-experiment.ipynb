{
 "cells": [
  {
   "cell_type": "markdown",
   "id": "50466c93",
   "metadata": {},
   "source": [
    "# Wetlab: Conceive experiments & register metadata"
   ]
  },
  {
   "cell_type": "code",
   "execution_count": null,
   "id": "8c551eb0",
   "metadata": {},
   "outputs": [],
   "source": [
    "!lamin login testuser1"
   ]
  },
  {
   "cell_type": "code",
   "execution_count": null,
   "id": "b7e482c0",
   "metadata": {},
   "outputs": [],
   "source": [
    "import lamindb as ln\n",
    "import bionty as bt"
   ]
  },
  {
   "cell_type": "markdown",
   "id": "f4ba56e6",
   "metadata": {},
   "source": [
    "## Register experiment level metadata"
   ]
  },
  {
   "cell_type": "code",
   "execution_count": null,
   "id": "b0feafce",
   "metadata": {},
   "outputs": [],
   "source": [
    "ln.Feature(name=\"assay\", dtype=\"cat[bionty.ExperimentalFactor]\").save()\n",
    "ln.Feature(name=\"readout\", dtype=\"cat[bionty.ExperimentalFactor]\").save()\n",
    "ln.Feature(name=\"experiment\", dtype=\"cat[ULabel]\").save()\n",
    "ln.Feature(name=\"biosample\", dtype=\"cat[ULabel]\").save()"
   ]
  },
  {
   "cell_type": "markdown",
   "id": "1c8b0836",
   "metadata": {},
   "source": [
    "Next, we register two experiment types:"
   ]
  },
  {
   "cell_type": "code",
   "execution_count": null,
   "id": "fb93306f",
   "metadata": {
    "tags": [
     "hide-output"
    ]
   },
   "outputs": [],
   "source": [
    "# grna\n",
    "bt.ExperimentalFactor.from_public(ontology_id=\"EFO:0030033\").save()"
   ]
  },
  {
   "cell_type": "code",
   "execution_count": null,
   "id": "e4fdfd69",
   "metadata": {
    "tags": [
     "hide-output"
    ]
   },
   "outputs": [],
   "source": [
    "# perturbseq\n",
    "bt.ExperimentalFactor.from_public(ontology_id=\"EFO:0008860\").save()"
   ]
  },
  {
   "cell_type": "markdown",
   "id": "90650cee",
   "metadata": {},
   "source": [
    "Next, we register two experiments that will be performed in this project:"
   ]
  },
  {
   "cell_type": "code",
   "execution_count": null,
   "id": "fd3624d9",
   "metadata": {},
   "outputs": [],
   "source": [
    "# parent label of the experiments\n",
    "experiment = ln.ULabel(name=\"experiment\").save()"
   ]
  },
  {
   "cell_type": "code",
   "execution_count": null,
   "id": "049d8000",
   "metadata": {},
   "outputs": [],
   "source": [
    "exp1 = ln.ULabel(\n",
    "    name=\"EXP001\",\n",
    "    description=(\n",
    "        \"Genome-wide CRISPRa screen for functional regulators of cytokine production in\"\n",
    "        \" response to stimulation\"\n",
    "    ),\n",
    ").save()\n",
    "exp1.parents.add(experiment)\n",
    "exp1"
   ]
  },
  {
   "cell_type": "code",
   "execution_count": null,
   "id": "f364dd1d",
   "metadata": {},
   "outputs": [],
   "source": [
    "exp2 = ln.ULabel(\n",
    "    name=\"EXP002\",\n",
    "    description=(\n",
    "        \"CRISPRa Perturb-seq for characterizing molecular phenotypes of cytokine\"\n",
    "        \" regulators\"\n",
    "    ),\n",
    ").save()\n",
    "exp2.parents.add(experiment)\n",
    "exp2"
   ]
  },
  {
   "cell_type": "markdown",
   "id": "2760be19",
   "metadata": {},
   "source": [
    "## Register biosample level metadata"
   ]
  },
  {
   "cell_type": "markdown",
   "id": "620c0a9f",
   "metadata": {},
   "source": [
    "Next, we register a biosample that will be used in the experiments:\n",
    "\n",
    "Along with some biological entities that will be used for annotating the biosample:"
   ]
  },
  {
   "cell_type": "code",
   "execution_count": null,
   "id": "0f3e3c27",
   "metadata": {
    "tags": [
     "hide-output"
    ]
   },
   "outputs": [],
   "source": [
    "tcell = bt.CellType.from_public(ontology_id=\"CL:0000084\").save()"
   ]
  },
  {
   "cell_type": "code",
   "execution_count": null,
   "id": "ba10bd72",
   "metadata": {
    "tags": [
     "hide-output"
    ]
   },
   "outputs": [],
   "source": [
    "pbmc = bt.CellType.from_public(ontology_id=\"CL:2000001\").save()"
   ]
  },
  {
   "cell_type": "code",
   "execution_count": null,
   "id": "454ab706",
   "metadata": {},
   "outputs": [],
   "source": [
    "biosample = ln.ULabel(name=\"biosample\").save()\n",
    "\n",
    "s001 = ln.ULabel(\n",
    "    name=\"S001\", description=\"primary human T cell isolated from PBMC, batch# B001\"\n",
    ").save()\n",
    "s001.parents.add(biosample)\n",
    "s001"
   ]
  },
  {
   "cell_type": "markdown",
   "id": "d5be95da",
   "metadata": {},
   "source": [
    "## Register experimental factors"
   ]
  },
  {
   "cell_type": "markdown",
   "id": "77c1d1b5",
   "metadata": {},
   "source": [
    "Next, we register two experimental factors that will be captured:"
   ]
  },
  {
   "cell_type": "code",
   "execution_count": null,
   "id": "75535150",
   "metadata": {
    "tags": [
     "hide-output"
    ]
   },
   "outputs": [],
   "source": [
    "bt.ExperimentalFactor.from_public(ontology_id=\"EFO:0003024\").save()"
   ]
  },
  {
   "cell_type": "code",
   "execution_count": null,
   "id": "84c0b062",
   "metadata": {
    "tags": [
     "hide-output"
    ]
   },
   "outputs": [],
   "source": [
    "bt.ExperimentalFactor.from_public(ontology_id=\"EFO:0008913\").save()"
   ]
  }
 ],
 "metadata": {
  "kernelspec": {
   "display_name": "py310",
   "language": "python",
   "name": "python3"
  },
  "language_info": {
   "codemirror_mode": {
    "name": "ipython",
    "version": 3
   },
   "file_extension": ".py",
   "mimetype": "text/x-python",
   "name": "python",
   "nbconvert_exporter": "python",
   "pygments_lexer": "ipython3",
   "version": "3.10.13"
  },
  "nbproject": {
   "id": "W4oWHHbY0oG6",
   "parent": null,
   "pypackage": null,
   "time_init": "2022-08-30T22:19:33.279387+00:00",
   "version": "draft"
  }
 },
 "nbformat": 4,
 "nbformat_minor": 5
}
