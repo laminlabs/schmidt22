{
 "cells": [
  {
   "cell_type": "markdown",
   "id": "acec64ce",
   "metadata": {},
   "source": [
    "# Hit identification - genome-wide CRIPSRa IFNG screen of T cells"
   ]
  },
  {
   "cell_type": "code",
   "execution_count": 1,
   "id": "d8ea826e",
   "metadata": {},
   "outputs": [
    {
     "name": "stdout",
     "output_type": "stream",
     "text": [
      "💡 connected lamindb: laminlabs/lamindata\n",
      "💡 notebook imports: bionty==0.43.0 lamindb==0.73.1 pandas==2.0.0\n",
      "💡 loaded: Transform(uid='PtTXoc0RbOIq65cN', version='2', name='Hit identification - genome-wide CRIPSRa IFNG screen of T cells', key='4-analyze-assay', type='notebook', created_by_id=2, updated_at='2024-06-17 09:13:21 UTC')\n",
      "💡 loaded: Run(uid='UPxSzjT73iZhtZLOtZ6l', started_at='2024-06-17 09:14:53 UTC', is_consecutive=True, transform_id=106, created_by_id=2)\n"
     ]
    },
    {
     "data": {
      "text/plain": [
       "Run(uid='UPxSzjT73iZhtZLOtZ6l', started_at='2024-06-17 09:14:53 UTC', is_consecutive=True, transform_id=106, created_by_id=2)"
      ]
     },
     "execution_count": 1,
     "metadata": {},
     "output_type": "execute_result"
    }
   ],
   "source": [
    "import lamindb as ln\n",
    "import bionty as bt\n",
    "\n",
    "ln.settings.transform.stem_uid = \"PtTXoc0RbOIq\"\n",
    "ln.settings.transform.version = \"2\"\n",
    "\n",
    "ln.track()"
   ]
  },
  {
   "cell_type": "markdown",
   "id": "445675d4",
   "metadata": {},
   "source": [
    "## Download assay readout from wetlab"
   ]
  },
  {
   "cell_type": "code",
   "execution_count": 2,
   "id": "e53f4428",
   "metadata": {},
   "outputs": [],
   "source": [
    "artifact = ln.Artifact.filter(description=\"CRIPSRa GWS IFNG readout 2023-08-25.csv\").one()"
   ]
  },
  {
   "cell_type": "code",
   "execution_count": 3,
   "id": "f0c10abc",
   "metadata": {},
   "outputs": [
    {
     "name": "stdout",
     "output_type": "stream",
     "text": [
      "\u001b[1;92mArtifact\u001b[0m(uid='nqMlYBupxMmpQhuJDPyp', description='CRIPSRa GWS IFNG readout 2023-08-25.csv', suffix='.csv', size=1729685, hash='cUSH0oQ2w-WccO8_ViKRAQ', hash_type='md5', visibility=1, key_is_virtual=False, updated_at='2024-04-29 15:11:39 UTC')\n",
      "  \u001b[3mProvenance\u001b[0m\n",
      "    .created_by = 'sunnyosun'\n",
      "    .storage = 's3://lamindata'\n",
      "    .transform = 'Upload GWS CRISPRa result'\n",
      "    .run = '2023-08-25 21:23:03 UTC'\n",
      "    .input_of = [\"'2023-08-25 23:10:13 UTC'\"]\n",
      "\n"
     ]
    }
   ],
   "source": [
    "artifact.describe()"
   ]
  },
  {
   "cell_type": "markdown",
   "id": "a05fa4a7",
   "metadata": {},
   "source": [
    "## Load in the assay data and perform analysis"
   ]
  },
  {
   "cell_type": "code",
   "execution_count": 4,
   "id": "89234cd2",
   "metadata": {},
   "outputs": [
    {
     "name": "stdout",
     "output_type": "stream",
     "text": [
      "... synchronizing nqMlYBupxMmpQhuJDPyp.csv: 100.0%\r"
     ]
    }
   ],
   "source": [
    "df_raw = artifact.load()"
   ]
  },
  {
   "cell_type": "markdown",
   "id": "a6b19920",
   "metadata": {},
   "source": [
    "## Perform analysis and ingest results into LaminDB"
   ]
  },
  {
   "cell_type": "markdown",
   "id": "f3a9ab7e",
   "metadata": {},
   "source": [
    "Let's assume we performed analysis from raw data `df_raw`, now we generated two new data objects:\n",
    "- df: a new df containing lots of columns of statistics.\n",
    "- hits: a subsetted dataframe containing hits of the screen."
   ]
  },
  {
   "cell_type": "code",
   "execution_count": 5,
   "id": "4c598ac1",
   "metadata": {},
   "outputs": [
    {
     "data": {
      "text/html": [
       "<div>\n",
       "<style scoped>\n",
       "    .dataframe tbody tr th:only-of-type {\n",
       "        vertical-align: middle;\n",
       "    }\n",
       "\n",
       "    .dataframe tbody tr th {\n",
       "        vertical-align: top;\n",
       "    }\n",
       "\n",
       "    .dataframe thead th {\n",
       "        text-align: right;\n",
       "    }\n",
       "</style>\n",
       "<table border=\"1\" class=\"dataframe\">\n",
       "  <thead>\n",
       "    <tr style=\"text-align: right;\">\n",
       "      <th></th>\n",
       "      <th>num</th>\n",
       "      <th>neg|score</th>\n",
       "      <th>neg|p-value</th>\n",
       "      <th>neg|fdr</th>\n",
       "      <th>neg|rank</th>\n",
       "      <th>neg|goodsgrna</th>\n",
       "      <th>neg|lfc</th>\n",
       "      <th>pos|score</th>\n",
       "      <th>pos|p-value</th>\n",
       "      <th>pos|fdr</th>\n",
       "      <th>pos|rank</th>\n",
       "      <th>pos|goodsgrna</th>\n",
       "      <th>pos|lfc</th>\n",
       "    </tr>\n",
       "    <tr>\n",
       "      <th>id</th>\n",
       "      <th></th>\n",
       "      <th></th>\n",
       "      <th></th>\n",
       "      <th></th>\n",
       "      <th></th>\n",
       "      <th></th>\n",
       "      <th></th>\n",
       "      <th></th>\n",
       "      <th></th>\n",
       "      <th></th>\n",
       "      <th></th>\n",
       "      <th></th>\n",
       "      <th></th>\n",
       "    </tr>\n",
       "  </thead>\n",
       "  <tbody>\n",
       "    <tr>\n",
       "      <th>MAP4K1</th>\n",
       "      <td>12</td>\n",
       "      <td>5.286000e-24</td>\n",
       "      <td>2.615000e-07</td>\n",
       "      <td>0.000081</td>\n",
       "      <td>1</td>\n",
       "      <td>11</td>\n",
       "      <td>-2.8128</td>\n",
       "      <td>1.0</td>\n",
       "      <td>1.0</td>\n",
       "      <td>1.0</td>\n",
       "      <td>18914</td>\n",
       "      <td>0</td>\n",
       "      <td>-2.8128</td>\n",
       "    </tr>\n",
       "    <tr>\n",
       "      <th>SLA2</th>\n",
       "      <td>12</td>\n",
       "      <td>5.725000e-20</td>\n",
       "      <td>2.615000e-07</td>\n",
       "      <td>0.000081</td>\n",
       "      <td>2</td>\n",
       "      <td>12</td>\n",
       "      <td>-2.3390</td>\n",
       "      <td>1.0</td>\n",
       "      <td>1.0</td>\n",
       "      <td>1.0</td>\n",
       "      <td>18930</td>\n",
       "      <td>0</td>\n",
       "      <td>-2.3390</td>\n",
       "    </tr>\n",
       "    <tr>\n",
       "      <th>MUC1</th>\n",
       "      <td>12</td>\n",
       "      <td>2.467000e-16</td>\n",
       "      <td>2.615000e-07</td>\n",
       "      <td>0.000081</td>\n",
       "      <td>3</td>\n",
       "      <td>12</td>\n",
       "      <td>-2.1793</td>\n",
       "      <td>1.0</td>\n",
       "      <td>1.0</td>\n",
       "      <td>1.0</td>\n",
       "      <td>18919</td>\n",
       "      <td>0</td>\n",
       "      <td>-2.1793</td>\n",
       "    </tr>\n",
       "    <tr>\n",
       "      <th>JMJD1C</th>\n",
       "      <td>12</td>\n",
       "      <td>4.316200e-16</td>\n",
       "      <td>2.615000e-07</td>\n",
       "      <td>0.000081</td>\n",
       "      <td>4</td>\n",
       "      <td>12</td>\n",
       "      <td>-2.1524</td>\n",
       "      <td>1.0</td>\n",
       "      <td>1.0</td>\n",
       "      <td>1.0</td>\n",
       "      <td>18923</td>\n",
       "      <td>0</td>\n",
       "      <td>-2.1524</td>\n",
       "    </tr>\n",
       "    <tr>\n",
       "      <th>LAT2</th>\n",
       "      <td>12</td>\n",
       "      <td>1.438200e-15</td>\n",
       "      <td>2.615000e-07</td>\n",
       "      <td>0.000081</td>\n",
       "      <td>5</td>\n",
       "      <td>12</td>\n",
       "      <td>-2.6588</td>\n",
       "      <td>1.0</td>\n",
       "      <td>1.0</td>\n",
       "      <td>1.0</td>\n",
       "      <td>18922</td>\n",
       "      <td>0</td>\n",
       "      <td>-2.6588</td>\n",
       "    </tr>\n",
       "  </tbody>\n",
       "</table>\n",
       "</div>"
      ],
      "text/plain": [
       "        num     neg|score   neg|p-value   neg|fdr  neg|rank  neg|goodsgrna   \n",
       "id                                                                           \n",
       "MAP4K1   12  5.286000e-24  2.615000e-07  0.000081         1             11  \\\n",
       "SLA2     12  5.725000e-20  2.615000e-07  0.000081         2             12   \n",
       "MUC1     12  2.467000e-16  2.615000e-07  0.000081         3             12   \n",
       "JMJD1C   12  4.316200e-16  2.615000e-07  0.000081         4             12   \n",
       "LAT2     12  1.438200e-15  2.615000e-07  0.000081         5             12   \n",
       "\n",
       "        neg|lfc  pos|score  pos|p-value  pos|fdr  pos|rank  pos|goodsgrna   \n",
       "id                                                                          \n",
       "MAP4K1  -2.8128        1.0          1.0      1.0     18914              0  \\\n",
       "SLA2    -2.3390        1.0          1.0      1.0     18930              0   \n",
       "MUC1    -2.1793        1.0          1.0      1.0     18919              0   \n",
       "JMJD1C  -2.1524        1.0          1.0      1.0     18923              0   \n",
       "LAT2    -2.6588        1.0          1.0      1.0     18922              0   \n",
       "\n",
       "        pos|lfc  \n",
       "id               \n",
       "MAP4K1  -2.8128  \n",
       "SLA2    -2.3390  \n",
       "MUC1    -2.1793  \n",
       "JMJD1C  -2.1524  \n",
       "LAT2    -2.6588  "
      ]
     },
     "execution_count": 5,
     "metadata": {},
     "output_type": "execute_result"
    }
   ],
   "source": [
    "df = df_raw.set_index(\"id\")\n",
    "df.head()"
   ]
  },
  {
   "cell_type": "code",
   "execution_count": 6,
   "id": "542bc0bd",
   "metadata": {},
   "outputs": [],
   "source": [
    "hits_df = df[df[\"pos|fdr\"] < 0.01].copy()"
   ]
  },
  {
   "cell_type": "markdown",
   "id": "646de534",
   "metadata": {},
   "source": [
    "## Register the file of screen hits"
   ]
  },
  {
   "cell_type": "code",
   "execution_count": 7,
   "id": "2442edac",
   "metadata": {},
   "outputs": [],
   "source": [
    "artifact_hits = ln.Artifact.from_df(hits_df, description=\"hits from schmidt22 crispra GWS\")"
   ]
  },
  {
   "cell_type": "code",
   "execution_count": 8,
   "id": "458a736c",
   "metadata": {},
   "outputs": [
    {
     "name": "stdout",
     "output_type": "stream",
     "text": [
      "... uploading V01p43DuAnerlhiVAXmW.parquet: 100.0%\n"
     ]
    },
    {
     "data": {
      "text/plain": [
       "Artifact(uid='V01p43DuAnerlhiVAXmW', description='hits from schmidt22 crispra GWS', suffix='.parquet', accessor='DataFrame', size=18368, hash='txyBucy8ZdQ42HR76PRPtA', hash_type='md5', visibility=1, key_is_virtual=True, created_by_id=2, storage_id=2, transform_id=106, run_id=218, updated_at='2024-06-17 09:16:00 UTC')"
      ]
     },
     "execution_count": 8,
     "metadata": {},
     "output_type": "execute_result"
    }
   ],
   "source": [
    "artifact_hits.save()"
   ]
  },
  {
   "cell_type": "code",
   "execution_count": 9,
   "id": "f450308e",
   "metadata": {},
   "outputs": [],
   "source": [
    "efo = bt.ExperimentalFactor.lookup()\n",
    "features = ln.Feature.lookup()\n",
    "\n",
    "artifact_hits.labels.add(efo.grna_seq, features.assay)\n",
    "artifact_hits.labels.add(efo.interferon_gamma, features.readout)"
   ]
  },
  {
   "cell_type": "code",
   "execution_count": 10,
   "id": "65c7de97",
   "metadata": {},
   "outputs": [],
   "source": [
    "is_experiment = ln.ULabel.filter(name=\"is_experiment\").one()\n",
    "is_biosample = ln.ULabel.filter(name=\"is_biosample\").one()\n",
    "\n",
    "exp1 = is_experiment.children.filter(description__contains=\"Genome-wide\").one()\n",
    "biosample = is_biosample.children.get(name=\"S001\")\n",
    "\n",
    "artifact_hits.labels.add(exp1, features.experiment)\n",
    "artifact_hits.labels.add(biosample, features.biosample)"
   ]
  },
  {
   "cell_type": "code",
   "execution_count": 11,
   "id": "66e1f0ed",
   "metadata": {},
   "outputs": [
    {
     "name": "stdout",
     "output_type": "stream",
     "text": [
      "\u001b[1;92mArtifact\u001b[0m(uid='V01p43DuAnerlhiVAXmW', description='hits from schmidt22 crispra GWS', suffix='.parquet', accessor='DataFrame', size=18368, hash='txyBucy8ZdQ42HR76PRPtA', hash_type='md5', visibility=1, key_is_virtual=True, updated_at='2024-06-17 09:16:00 UTC')\n",
      "  \u001b[3mProvenance\u001b[0m\n",
      "    .created_by = 'sunnyosun'\n",
      "    .storage = 's3://lamindata'\n",
      "    .transform = 'Hit identification - genome-wide CRIPSRa IFNG screen of T cells'\n",
      "    .run = '2024-06-17 09:13:22 UTC'\n",
      "  \u001b[3mLabels\u001b[0m\n",
      "    .experimental_factors = 'gRNA-seq', 'interferon gamma'\n",
      "    .ulabels = 'EXP001', 'S001'\n",
      "  \u001b[3mFeatures\u001b[0m\n",
      "    'experiment' = 'EXP001'\n",
      "    'biosample' = 'S001'\n",
      "    'assay' = 'gRNA-seq'\n",
      "    'readout' = 'interferon gamma'\n",
      "\n"
     ]
    }
   ],
   "source": [
    "artifact_hits.describe()"
   ]
  },
  {
   "cell_type": "code",
   "execution_count": 12,
   "id": "48e61b1f",
   "metadata": {},
   "outputs": [
    {
     "data": {
      "image/svg+xml": [
       "<?xml version=\"1.0\" encoding=\"UTF-8\" standalone=\"no\"?>\n",
       "<!DOCTYPE svg PUBLIC \"-//W3C//DTD SVG 1.1//EN\"\n",
       " \"http://www.w3.org/Graphics/SVG/1.1/DTD/svg11.dtd\">\n",
       "<!-- Generated by graphviz version 10.0.1 (20240210.2158)\n",
       " -->\n",
       "<!-- Title: artifact_V01p43DuAnerlhiVAXmW Pages: 1 -->\n",
       "<svg width=\"324pt\" height=\"288pt\"\n",
       " viewBox=\"0.00 0.00 324.00 288.00\" xmlns=\"http://www.w3.org/2000/svg\" xmlns:xlink=\"http://www.w3.org/1999/xlink\">\n",
       "<g id=\"graph0\" class=\"graph\" transform=\"scale(1 1) rotate(0) translate(4 284)\">\n",
       "<title>artifact_V01p43DuAnerlhiVAXmW</title>\n",
       "<polygon fill=\"white\" stroke=\"none\" points=\"-4,4 -4,-284 320,-284 320,4 -4,4\"/>\n",
       "<!-- artifact_nqMlYBupxMmpQhuJDPyp -->\n",
       "<g id=\"node1\" class=\"node\">\n",
       "<title>artifact_nqMlYBupxMmpQhuJDPyp</title>\n",
       "<path fill=\"honeydew\" stroke=\"#065f46\" d=\"M262,-196C262,-196 54,-196 54,-196 48,-196 42,-190 42,-184 42,-184 42,-170 42,-170 42,-164 48,-158 54,-158 54,-158 262,-158 262,-158 268,-158 274,-164 274,-170 274,-170 274,-184 274,-184 274,-190 268,-196 262,-196\"/>\n",
       "<text text-anchor=\"start\" x=\"50\" y=\"-183.5\" font-family=\"Helvetica,sans-Serif\" font-size=\"10.00\">📄 CRIPSRa GWS IFNG readout 2023&#45;08&#45;25.csv</text>\n",
       "<text text-anchor=\"start\" x=\"86\" y=\"-173.5\" font-family=\"Monospace\" font-size=\"10.00\" fill=\"GREY\">uid=nqMlYBupxMmpQhuJDPyp</text>\n",
       "<text text-anchor=\"start\" x=\"125\" y=\"-163.5\" font-family=\"Monospace\" font-size=\"10.00\" fill=\"GREY\">suffix=.csv</text>\n",
       "</g>\n",
       "<!-- run_UPxSzjT73iZhtZLOtZ6l -->\n",
       "<g id=\"node2\" class=\"node\">\n",
       "<title>run_UPxSzjT73iZhtZLOtZ6l</title>\n",
       "<path fill=\"gainsboro\" stroke=\"#065f46\" d=\"M304,-122C304,-122 12,-122 12,-122 6,-122 0,-116 0,-110 0,-110 0,-86 0,-86 0,-80 6,-74 12,-74 12,-74 304,-74 304,-74 310,-74 316,-80 316,-86 316,-86 316,-110 316,-110 316,-116 310,-122 304,-122\"/>\n",
       "<text text-anchor=\"start\" x=\"8\" y=\"-109.5\" font-family=\"Helvetica,sans-Serif\" font-size=\"10.00\">📔 Hit identification &#45; genome&#45;wide CRIPSRa IFNG screen of T cells</text>\n",
       "<text text-anchor=\"start\" x=\"98\" y=\"-99.5\" font-family=\"Monospace\" font-size=\"10.00\" fill=\"GREY\">uid=PtTXoc0RbOIq65cN</text>\n",
       "<text text-anchor=\"start\" x=\"71\" y=\"-89.5\" font-family=\"Monospace\" font-size=\"10.00\" fill=\"GREY\">type=notebook, user=Sunny Sun</text>\n",
       "<text text-anchor=\"start\" x=\"71\" y=\"-79.5\" font-family=\"Monospace\" font-size=\"10.00\" fill=\"GREY\">run=&#39;2024&#45;06&#45;17 09:14:53 UTC&#39;</text>\n",
       "</g>\n",
       "<!-- artifact_nqMlYBupxMmpQhuJDPyp&#45;&gt;run_UPxSzjT73iZhtZLOtZ6l -->\n",
       "<g id=\"edge1\" class=\"edge\">\n",
       "<title>artifact_nqMlYBupxMmpQhuJDPyp&#45;&gt;run_UPxSzjT73iZhtZLOtZ6l</title>\n",
       "<path fill=\"none\" stroke=\"dimgrey\" d=\"M158,-157.75C158,-149.07 158,-138.47 158,-128.67\"/>\n",
       "<polygon fill=\"dimgrey\" stroke=\"dimgrey\" points=\"159.75,-128.89 158,-123.89 156.25,-128.89 159.75,-128.89\"/>\n",
       "</g>\n",
       "<!-- artifact_V01p43DuAnerlhiVAXmW -->\n",
       "<g id=\"node3\" class=\"node\">\n",
       "<title>artifact_V01p43DuAnerlhiVAXmW</title>\n",
       "<path fill=\"#10b981\" stroke=\"#065f46\" d=\"M233.12,-38C233.12,-38 82.88,-38 82.88,-38 76.88,-38 70.88,-32 70.88,-26 70.88,-26 70.88,-12 70.88,-12 70.88,-6 76.88,0 82.88,0 82.88,0 233.12,0 233.12,0 239.12,0 245.12,-6 245.12,-12 245.12,-12 245.12,-26 245.12,-26 245.12,-32 239.12,-38 233.12,-38\"/>\n",
       "<text text-anchor=\"start\" x=\"78.88\" y=\"-25.5\" font-family=\"Helvetica,sans-Serif\" font-size=\"10.00\">📄 hits from schmidt22 crispra GWS</text>\n",
       "<text text-anchor=\"start\" x=\"86\" y=\"-15.5\" font-family=\"Monospace\" font-size=\"10.00\" fill=\"GREY\">uid=V01p43DuAnerlhiVAXmW</text>\n",
       "<text text-anchor=\"start\" x=\"113\" y=\"-5.5\" font-family=\"Monospace\" font-size=\"10.00\" fill=\"GREY\">suffix=.parquet</text>\n",
       "</g>\n",
       "<!-- run_UPxSzjT73iZhtZLOtZ6l&#45;&gt;artifact_V01p43DuAnerlhiVAXmW -->\n",
       "<g id=\"edge2\" class=\"edge\">\n",
       "<title>run_UPxSzjT73iZhtZLOtZ6l&#45;&gt;artifact_V01p43DuAnerlhiVAXmW</title>\n",
       "<path fill=\"none\" stroke=\"dimgrey\" d=\"M158,-73.9C158,-64.68 158,-54.06 158,-44.69\"/>\n",
       "<polygon fill=\"dimgrey\" stroke=\"dimgrey\" points=\"159.75,-44.96 158,-39.96 156.25,-44.96 159.75,-44.96\"/>\n",
       "</g>\n",
       "<!-- run_BFd0Ji0ne8rFzJcj0wRy -->\n",
       "<g id=\"node4\" class=\"node\">\n",
       "<title>run_BFd0Ji0ne8rFzJcj0wRy</title>\n",
       "<path fill=\"gainsboro\" stroke=\"#065f46\" d=\"M241,-280C241,-280 75,-280 75,-280 69,-280 63,-274 63,-268 63,-268 63,-244 63,-244 63,-238 69,-232 75,-232 75,-232 241,-232 241,-232 247,-232 253,-238 253,-244 253,-244 253,-268 253,-268 253,-274 247,-280 241,-280\"/>\n",
       "<text text-anchor=\"start\" x=\"85.62\" y=\"-267.5\" font-family=\"Helvetica,sans-Serif\" font-size=\"10.00\">💫 Upload GWS CRISPRa result</text>\n",
       "<text text-anchor=\"start\" x=\"98\" y=\"-257.5\" font-family=\"Monospace\" font-size=\"10.00\" fill=\"GREY\">uid=okuMGvq9AC1K5zKv</text>\n",
       "<text text-anchor=\"start\" x=\"77\" y=\"-247.5\" font-family=\"Monospace\" font-size=\"10.00\" fill=\"GREY\">type=upload, user=Sunny Sun</text>\n",
       "<text text-anchor=\"start\" x=\"71\" y=\"-237.5\" font-family=\"Monospace\" font-size=\"10.00\" fill=\"GREY\">run=&#39;2023&#45;08&#45;25 21:23:03 UTC&#39;</text>\n",
       "</g>\n",
       "<!-- run_BFd0Ji0ne8rFzJcj0wRy&#45;&gt;artifact_nqMlYBupxMmpQhuJDPyp -->\n",
       "<g id=\"edge3\" class=\"edge\">\n",
       "<title>run_BFd0Ji0ne8rFzJcj0wRy&#45;&gt;artifact_nqMlYBupxMmpQhuJDPyp</title>\n",
       "<path fill=\"none\" stroke=\"dimgrey\" d=\"M158,-231.9C158,-222.68 158,-212.06 158,-202.69\"/>\n",
       "<polygon fill=\"dimgrey\" stroke=\"dimgrey\" points=\"159.75,-202.96 158,-197.96 156.25,-202.96 159.75,-202.96\"/>\n",
       "</g>\n",
       "</g>\n",
       "</svg>\n"
      ]
     },
     "metadata": {},
     "output_type": "display_data"
    }
   ],
   "source": [
    "artifact_hits.view_lineage()"
   ]
  }
 ],
 "metadata": {
  "kernelspec": {
   "display_name": "Python 3 (ipykernel)",
   "language": "python",
   "name": "python3"
  },
  "language_info": {
   "codemirror_mode": {
    "name": "ipython",
    "version": 3
   },
   "file_extension": ".py",
   "mimetype": "text/x-python",
   "name": "python",
   "nbconvert_exporter": "python",
   "pygments_lexer": "ipython3",
   "version": "3.10.13"
  },
  "vscode": {
   "interpreter": {
    "hash": "ae1fefc8646a06dd2e75004cd934adda7c5727b046986a772e3b44b0ffba9754"
   }
  }
 },
 "nbformat": 4,
 "nbformat_minor": 5
}
