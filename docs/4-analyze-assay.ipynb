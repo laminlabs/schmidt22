{
 "cells": [
  {
   "cell_type": "markdown",
   "id": "acec64ce",
   "metadata": {},
   "source": [
    "# Drylab: Genome-wide CRIPSRa screen analysis"
   ]
  },
  {
   "cell_type": "code",
   "execution_count": null,
   "id": "28bad0c3",
   "metadata": {},
   "outputs": [],
   "source": [
    "!lamin login testuser2"
   ]
  },
  {
   "cell_type": "code",
   "execution_count": null,
   "id": "d8ea826e",
   "metadata": {},
   "outputs": [],
   "source": [
    "import lamindb as ln\n",
    "import pandas as pd\n",
    "\n",
    "ln.track()"
   ]
  },
  {
   "cell_type": "markdown",
   "id": "445675d4",
   "metadata": {},
   "source": [
    "## Download assay readout from wetlab"
   ]
  },
  {
   "cell_type": "code",
   "execution_count": null,
   "id": "e53f4428",
   "metadata": {},
   "outputs": [],
   "source": [
    "# file = ln.File.filter(id=\"\").one()\n",
    "file = ln.File.filter(key=\"schmidt22-crispra-gws-IFNG.csv\").one()"
   ]
  },
  {
   "cell_type": "code",
   "execution_count": null,
   "id": "f0c10abc",
   "metadata": {},
   "outputs": [],
   "source": [
    "file.describe()"
   ]
  },
  {
   "cell_type": "markdown",
   "id": "a05fa4a7",
   "metadata": {},
   "source": [
    "## Load in the assay data and perform analysis"
   ]
  },
  {
   "cell_type": "code",
   "execution_count": null,
   "id": "89234cd2",
   "metadata": {},
   "outputs": [],
   "source": [
    "df_raw = file.load()"
   ]
  },
  {
   "cell_type": "markdown",
   "id": "a6b19920",
   "metadata": {},
   "source": [
    "## Perform analysis and ingest results into LaminDB"
   ]
  },
  {
   "cell_type": "markdown",
   "id": "f3a9ab7e",
   "metadata": {},
   "source": [
    "Let's assume we performed analysis from raw data `df_raw`, now we generated two new data objects:\n",
    "- df: a new df containing lots of columns of statistics.\n",
    "- hits: a subsetted dataframe containing hits of the screen."
   ]
  },
  {
   "cell_type": "code",
   "execution_count": null,
   "id": "4c598ac1",
   "metadata": {},
   "outputs": [],
   "source": [
    "df = df_raw.set_index(\"id\")\n",
    "df.head()"
   ]
  },
  {
   "cell_type": "code",
   "execution_count": null,
   "id": "542bc0bd",
   "metadata": {},
   "outputs": [],
   "source": [
    "hits_df = df[df[\"pos|fdr\"] < 0.01].copy()"
   ]
  },
  {
   "cell_type": "markdown",
   "id": "646de534",
   "metadata": {},
   "source": [
    "## Register the file of screen hits"
   ]
  },
  {
   "cell_type": "code",
   "execution_count": null,
   "id": "2442edac",
   "metadata": {},
   "outputs": [],
   "source": [
    "file_hits = ln.File(hits_df, description=\"hits from schmidt22 crispra GWS\")"
   ]
  },
  {
   "cell_type": "code",
   "execution_count": null,
   "id": "458a736c",
   "metadata": {},
   "outputs": [],
   "source": [
    "file_hits.save()"
   ]
  },
  {
   "cell_type": "code",
   "execution_count": null,
   "id": "48e61b1f",
   "metadata": {},
   "outputs": [],
   "source": [
    "file_hits.view_lineage()"
   ]
  }
 ],
 "metadata": {
  "kernelspec": {
   "display_name": "Python 3 (ipykernel)",
   "language": "python",
   "name": "python3"
  },
  "language_info": {
   "codemirror_mode": {
    "name": "ipython",
    "version": 3
   },
   "file_extension": ".py",
   "mimetype": "text/x-python",
   "name": "python",
   "nbconvert_exporter": "python",
   "pygments_lexer": "ipython3",
   "version": "3.9.16"
  },
  "nbproject": {
   "id": "PtTXoc0RbOIq",
   "parent": null,
   "pypackage": {
    "bionty": "0.4.1",
    "lamindb": "0.9.2",
    "pandas": "1.4.3"
   },
   "time_init": "2022-08-30T22:14:41.728518+00:00",
   "user_handle": "testuser1",
   "user_id": "DzTjkKse",
   "user_name": "Test User1",
   "version": "6"
  },
  "vscode": {
   "interpreter": {
    "hash": "ae1fefc8646a06dd2e75004cd934adda7c5727b046986a772e3b44b0ffba9754"
   }
  }
 },
 "nbformat": 4,
 "nbformat_minor": 5
}
