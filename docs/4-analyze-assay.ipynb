{
 "cells": [
  {
   "cell_type": "markdown",
   "id": "acec64ce",
   "metadata": {},
   "source": [
    "# Hit identification - genome-wide CRIPSRa IFNG screen of T cells"
   ]
  },
  {
   "cell_type": "code",
   "execution_count": null,
   "id": "d8ea826e",
   "metadata": {},
   "outputs": [],
   "source": [
    "import lamindb as ln\n",
    "import bionty as bt\n",
    "\n",
    "ln.settings.transform.stem_uid = \"PtTXoc0RbOIq\"\n",
    "ln.settings.transform.version = \"2\"\n",
    "\n",
    "ln.track()"
   ]
  },
  {
   "cell_type": "markdown",
   "id": "445675d4",
   "metadata": {},
   "source": [
    "## Download assay readout from wetlab"
   ]
  },
  {
   "cell_type": "code",
   "execution_count": null,
   "id": "e53f4428",
   "metadata": {},
   "outputs": [],
   "source": [
    "artifact = ln.Artifact.filter(\n",
    "    description=\"CRIPSRa GWS IFNG readout 2023-08-25.csv\"\n",
    ").one()"
   ]
  },
  {
   "cell_type": "code",
   "execution_count": null,
   "id": "f0c10abc",
   "metadata": {},
   "outputs": [],
   "source": [
    "artifact.describe()"
   ]
  },
  {
   "cell_type": "markdown",
   "id": "a05fa4a7",
   "metadata": {},
   "source": [
    "## Load in the assay data and perform analysis"
   ]
  },
  {
   "cell_type": "code",
   "execution_count": null,
   "id": "89234cd2",
   "metadata": {},
   "outputs": [],
   "source": [
    "df_raw = artifact.load()"
   ]
  },
  {
   "cell_type": "markdown",
   "id": "a6b19920",
   "metadata": {},
   "source": [
    "## Perform analysis and ingest results into LaminDB"
   ]
  },
  {
   "cell_type": "markdown",
   "id": "f3a9ab7e",
   "metadata": {},
   "source": [
    "Let's assume we performed analysis from raw data `df_raw`, now we generated two new data objects:\n",
    "- df: a new df containing lots of columns of statistics.\n",
    "- hits: a subsetted dataframe containing hits of the screen."
   ]
  },
  {
   "cell_type": "code",
   "execution_count": null,
   "id": "4c598ac1",
   "metadata": {},
   "outputs": [],
   "source": [
    "df = df_raw.set_index(\"id\")\n",
    "df.head()"
   ]
  },
  {
   "cell_type": "code",
   "execution_count": null,
   "id": "542bc0bd",
   "metadata": {},
   "outputs": [],
   "source": [
    "hits_df = df[df[\"pos|fdr\"] < 0.01].copy()"
   ]
  },
  {
   "cell_type": "markdown",
   "id": "646de534",
   "metadata": {},
   "source": [
    "## Register the file of screen hits"
   ]
  },
  {
   "cell_type": "code",
   "execution_count": null,
   "id": "2442edac",
   "metadata": {},
   "outputs": [],
   "source": [
    "artifact_hits = ln.Artifact.from_df(\n",
    "    hits_df, description=\"hits from schmidt22 crispra GWS\"\n",
    ")"
   ]
  },
  {
   "cell_type": "code",
   "execution_count": null,
   "id": "458a736c",
   "metadata": {},
   "outputs": [],
   "source": [
    "artifact_hits.save()"
   ]
  },
  {
   "cell_type": "code",
   "execution_count": null,
   "id": "f450308e",
   "metadata": {},
   "outputs": [],
   "source": [
    "efo = bt.ExperimentalFactor.lookup()\n",
    "features = ln.Feature.lookup()\n",
    "\n",
    "artifact_hits.labels.add(efo.grna_seq, features.assay)\n",
    "artifact_hits.labels.add(efo.interferon_gamma, features.readout)"
   ]
  },
  {
   "cell_type": "code",
   "execution_count": null,
   "id": "65c7de97",
   "metadata": {},
   "outputs": [],
   "source": [
    "is_experiment = ln.ULabel.filter(name=\"is_experiment\").one()\n",
    "is_biosample = ln.ULabel.filter(name=\"is_biosample\").one()\n",
    "\n",
    "exp1 = is_experiment.children.filter(description__contains=\"Genome-wide\").one()\n",
    "biosample = is_biosample.children.get(name=\"S001\")\n",
    "\n",
    "artifact_hits.labels.add(exp1, features.experiment)\n",
    "artifact_hits.labels.add(biosample, features.biosample)"
   ]
  },
  {
   "cell_type": "code",
   "execution_count": null,
   "id": "66e1f0ed",
   "metadata": {},
   "outputs": [],
   "source": [
    "artifact_hits.describe()"
   ]
  },
  {
   "cell_type": "code",
   "execution_count": null,
   "id": "48e61b1f",
   "metadata": {},
   "outputs": [],
   "source": [
    "artifact_hits.view_lineage()"
   ]
  }
 ],
 "metadata": {
  "kernelspec": {
   "display_name": "Python 3 (ipykernel)",
   "language": "python",
   "name": "python3"
  },
  "language_info": {
   "codemirror_mode": {
    "name": "ipython",
    "version": 3
   },
   "file_extension": ".py",
   "mimetype": "text/x-python",
   "name": "python",
   "nbconvert_exporter": "python",
   "pygments_lexer": "ipython3",
   "version": "3.10.13"
  },
  "vscode": {
   "interpreter": {
    "hash": "ae1fefc8646a06dd2e75004cd934adda7c5727b046986a772e3b44b0ffba9754"
   }
  }
 },
 "nbformat": 4,
 "nbformat_minor": 5
}
