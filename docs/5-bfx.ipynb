{
 "cells": [
  {
   "cell_type": "markdown",
   "id": "5ac46edc",
   "metadata": {},
   "source": [
    "# Ingest results from bioinformatics run"
   ]
  },
  {
   "cell_type": "markdown",
   "id": "936ea1cf",
   "metadata": {},
   "source": [
    "`testuser1` performed perturb-seq and initiated a bioinformatics workflow run:"
   ]
  },
  {
   "cell_type": "code",
   "execution_count": null,
   "id": "e8057056",
   "metadata": {},
   "outputs": [],
   "source": [
    "!lamin login testuser1"
   ]
  },
  {
   "cell_type": "code",
   "execution_count": null,
   "id": "6d6c84fd",
   "metadata": {},
   "outputs": [],
   "source": [
    "import lamindb as ln\n",
    "import lnschema_bionty as lb"
   ]
  },
  {
   "cell_type": "markdown",
   "id": "609aa95d",
   "metadata": {},
   "source": [
    "## Upload raw fastq files"
   ]
  },
  {
   "cell_type": "code",
   "execution_count": null,
   "id": "67eea367",
   "metadata": {},
   "outputs": [],
   "source": [
    "bfx_run_output = ln.dev.datasets.dir_scrnaseq_cellranger(\n",
    "    \"perturbseq\", basedir=ln.settings.storage, output_only=False\n",
    ")\n",
    "ln.track(ln.Transform(name=\"Chromium 10x upload\", type=\"pipeline\"))\n",
    "ln.File(bfx_run_output.parent / \"fastq/perturbseq_R1_001.fastq.gz\").save()\n",
    "ln.File(bfx_run_output.parent / \"fastq/perturbseq_R2_001.fastq.gz\").save()\n",
    "ln.setup.login(\"testuser2\")"
   ]
  },
  {
   "cell_type": "markdown",
   "id": "0a41945a",
   "metadata": {},
   "source": [
    "## Bioinformatics run"
   ]
  },
  {
   "cell_type": "code",
   "execution_count": null,
   "id": "7723aba5",
   "metadata": {},
   "outputs": [],
   "source": [
    "transform = ln.Transform(name=\"Cell Ranger\", version=\"7.2.0\", type=\"pipeline\")\n",
    "ln.track(transform)"
   ]
  },
  {
   "cell_type": "code",
   "execution_count": null,
   "id": "7fcb06ec",
   "metadata": {},
   "outputs": [],
   "source": [
    "files = ln.File.filter(key__startswith=\"fastq/perturbseq\").all()\n",
    "filepaths = [file.stage() for file in files]"
   ]
  },
  {
   "cell_type": "code",
   "execution_count": null,
   "id": "139fb73f",
   "metadata": {},
   "outputs": [],
   "source": [
    "output_files = ln.File.from_dir(\"./mycrispr/perturbseq/filtered_feature_bc_matrix/\")\n",
    "ln.save(output_files)"
   ]
  },
  {
   "cell_type": "code",
   "execution_count": null,
   "id": "ce7144b3",
   "metadata": {},
   "outputs": [],
   "source": [
    "output_files[0].view_lineage()"
   ]
  },
  {
   "cell_type": "markdown",
   "id": "a787dc40",
   "metadata": {},
   "source": [
    "## Pre-process Cell Ranger outputs"
   ]
  },
  {
   "cell_type": "code",
   "execution_count": null,
   "id": "3c8d7c3c",
   "metadata": {},
   "outputs": [],
   "source": [
    "transform = ln.Transform(\n",
    "    name=\"Preprocess Cell Ranger outputs\", version=\"2.0\", type=\"pipeline\"\n",
    ")\n",
    "ln.track(transform)"
   ]
  },
  {
   "cell_type": "code",
   "execution_count": null,
   "id": "93b39d8f",
   "metadata": {},
   "outputs": [],
   "source": [
    "[f.stage() for f in output_files]\n",
    "filepath = ln.dev.datasets.schmidt22_perturbseq(basedir=ln.settings.storage)"
   ]
  },
  {
   "cell_type": "code",
   "execution_count": null,
   "id": "25033a3d",
   "metadata": {},
   "outputs": [],
   "source": [
    "file = ln.File(filepath, description=\"perturbseq counts\")\n",
    "file.save()"
   ]
  },
  {
   "cell_type": "code",
   "execution_count": null,
   "id": "ad40e094",
   "metadata": {},
   "outputs": [],
   "source": [
    "efo = lb.ExperimentalFactor.lookup()\n",
    "\n",
    "file.add_labels(efo.perturb_seq, \"assay\")\n",
    "file.add_labels(efo.single_cell_rna_sequencing, \"readout\")"
   ]
  },
  {
   "cell_type": "code",
   "execution_count": null,
   "id": "d58231c1",
   "metadata": {},
   "outputs": [],
   "source": [
    "is_experiment = ln.Label.filter(name=\"is_experiment\").one()\n",
    "is_biosample = ln.Label.filter(name=\"is_biosample\").one()\n",
    "\n",
    "exp2 = is_experiment.children.filter(description__contains=\"Perturb-seq\")\n",
    "\n",
    "biosample = is_biosample.children.get(name=\"S001\")\n",
    "\n",
    "file.add_labels(exp2, \"experiment\")\n",
    "file.add_labels(biosample, \"biosample\")"
   ]
  },
  {
   "cell_type": "code",
   "execution_count": null,
   "id": "0d33a4c5",
   "metadata": {},
   "outputs": [],
   "source": [
    "file.describe()"
   ]
  },
  {
   "cell_type": "code",
   "execution_count": null,
   "id": "1ea72d36",
   "metadata": {},
   "outputs": [],
   "source": [
    "file.view_lineage()"
   ]
  }
 ],
 "metadata": {
  "kernelspec": {
   "display_name": "Python 3 (ipykernel)",
   "language": "python",
   "name": "python3"
  },
  "language_info": {
   "codemirror_mode": {
    "name": "ipython",
    "version": 3
   },
   "file_extension": ".py",
   "mimetype": "text/x-python",
   "name": "python",
   "nbconvert_exporter": "python",
   "pygments_lexer": "ipython3",
   "version": "3.9.16"
  },
  "nbproject": {
   "id": "7FDlIYMukhK8",
   "parent": null,
   "pypackage": {
    "lamindb": "0.3.3",
    "lnbfx": "0.3.1"
   },
   "time_init": "2022-08-30T22:19:47.979898+00:00",
   "version": "4"
  },
  "vscode": {
   "interpreter": {
    "hash": "ae1fefc8646a06dd2e75004cd934adda7c5727b046986a772e3b44b0ffba9754"
   }
  }
 },
 "nbformat": 4,
 "nbformat_minor": 5
}
