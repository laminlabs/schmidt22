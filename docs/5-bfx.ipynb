{
 "cells": [
  {
   "cell_type": "markdown",
   "id": "5ac46edc",
   "metadata": {},
   "source": [
    "# Ingest results from bioinformatics run"
   ]
  },
  {
   "cell_type": "markdown",
   "id": "936ea1cf",
   "metadata": {},
   "source": [
    "`testuser1` performed perturb-seq and initiated a bioinformatics workflow run:"
   ]
  },
  {
   "cell_type": "code",
   "execution_count": null,
   "id": "fcfba636",
   "metadata": {},
   "outputs": [],
   "source": [
    "!python ../scripts/cellranger.py"
   ]
  },
  {
   "cell_type": "code",
   "execution_count": null,
   "id": "0ddded93",
   "metadata": {},
   "outputs": [],
   "source": [
    "!python ../scripts/postprocess_cellranger.py"
   ]
  }
 ],
 "metadata": {
  "kernelspec": {
   "display_name": "Python 3 (ipykernel)",
   "language": "python",
   "name": "python3"
  },
  "language_info": {
   "codemirror_mode": {
    "name": "ipython",
    "version": 3
   },
   "file_extension": ".py",
   "mimetype": "text/x-python",
   "name": "python",
   "nbconvert_exporter": "python",
   "pygments_lexer": "ipython3",
   "version": "3.9.16"
  },
  "nbproject": {
   "id": "7FDlIYMukhK8",
   "parent": null,
   "pypackage": {
    "lamindb": "0.3.3",
    "lnbfx": "0.3.1"
   },
   "time_init": "2022-08-30T22:19:47.979898+00:00",
   "version": "4"
  },
  "vscode": {
   "interpreter": {
    "hash": "ae1fefc8646a06dd2e75004cd934adda7c5727b046986a772e3b44b0ffba9754"
   }
  }
 },
 "nbformat": 4,
 "nbformat_minor": 5
}
