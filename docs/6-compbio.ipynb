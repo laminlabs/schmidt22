{
 "cells": [
  {
   "cell_type": "markdown",
   "id": "8b86aba3",
   "metadata": {},
   "source": [
    "# Perform single cell analysis, integrating with CRISPRa screen"
   ]
  },
  {
   "cell_type": "code",
   "execution_count": null,
   "id": "a79fb38e",
   "metadata": {},
   "outputs": [],
   "source": [
    "!lamin login testuser2"
   ]
  },
  {
   "cell_type": "code",
   "execution_count": null,
   "id": "a69a8f5f",
   "metadata": {},
   "outputs": [],
   "source": [
    "import lamindb as ln\n",
    "import lnschema_bionty as lb\n",
    "import scanpy as sc"
   ]
  },
  {
   "cell_type": "code",
   "execution_count": null,
   "id": "a328a980",
   "metadata": {},
   "outputs": [],
   "source": [
    "ln.track()"
   ]
  },
  {
   "cell_type": "code",
   "execution_count": null,
   "id": "a68d3e64",
   "metadata": {},
   "outputs": [],
   "source": [
    "file_hits = ln.File.filter(description=\"hits from schmidt22 crispra GWS\").one()"
   ]
  },
  {
   "cell_type": "code",
   "execution_count": null,
   "id": "abadec06",
   "metadata": {},
   "outputs": [],
   "source": [
    "file_ps = ln.File.filter(description__icontains=\"perturbseq\", suffix=\".h5ad\").one()"
   ]
  },
  {
   "cell_type": "markdown",
   "id": "be15396a",
   "metadata": {},
   "source": [
    "## Link experimental metadata to the datasets"
   ]
  },
  {
   "cell_type": "code",
   "execution_count": null,
   "id": "955132f5",
   "metadata": {},
   "outputs": [],
   "source": [
    "efo = lb.ExperimentalFactor.lookup()"
   ]
  },
  {
   "cell_type": "code",
   "execution_count": null,
   "id": "ba805b24",
   "metadata": {},
   "outputs": [],
   "source": [
    "file_hits.add_labels(efo.grna_seq, \"assay\")"
   ]
  },
  {
   "cell_type": "code",
   "execution_count": null,
   "id": "f68ae8ef",
   "metadata": {},
   "outputs": [],
   "source": [
    "file_hits.add_labels(efo.interferon_gamma, \"readout\")"
   ]
  },
  {
   "cell_type": "code",
   "execution_count": null,
   "id": "1fd0209f",
   "metadata": {},
   "outputs": [],
   "source": [
    "file_ps.add_labels(efo.perturb_seq, \"assay\")"
   ]
  },
  {
   "cell_type": "code",
   "execution_count": null,
   "id": "5714c12c",
   "metadata": {},
   "outputs": [],
   "source": [
    "file_ps.add_labels(efo.single_cell_rna_sequencing, \"readout\")"
   ]
  },
  {
   "cell_type": "code",
   "execution_count": null,
   "id": "cae0aec7",
   "metadata": {},
   "outputs": [],
   "source": [
    "is_experiment = ln.Label.filter(name=\"is_experiment\").one()\n",
    "is_biosample = ln.Label.filter(name=\"is_biosample\").one()"
   ]
  },
  {
   "cell_type": "code",
   "execution_count": null,
   "id": "ca83d712",
   "metadata": {},
   "outputs": [],
   "source": [
    "exp1 = is_experiment.children.filter(description__contains=\"Genome-wide\")\n",
    "exp2 = is_experiment.children.filter(description__contains=\"Perturb-seq\")"
   ]
  },
  {
   "cell_type": "code",
   "execution_count": null,
   "id": "c28e2876",
   "metadata": {},
   "outputs": [],
   "source": [
    "biosample = is_biosample.children.get(name=\"S001\")"
   ]
  },
  {
   "cell_type": "code",
   "execution_count": null,
   "id": "e529a5d0",
   "metadata": {},
   "outputs": [],
   "source": [
    "file_hits.add_labels(exp1, \"experiment\")\n",
    "file_ps.add_labels(exp2, \"experiment\")\n",
    "file_hits.add_labels(biosample, \"biosample\")\n",
    "file_ps.add_labels(biosample, \"biosample\")"
   ]
  },
  {
   "cell_type": "markdown",
   "id": "8f74a7d1",
   "metadata": {},
   "source": [
    "## Load in the scRNA-seq count matrix generated from the BFX pipeline"
   ]
  },
  {
   "cell_type": "code",
   "execution_count": null,
   "id": "751ec81a",
   "metadata": {},
   "outputs": [],
   "source": [
    "adata = file_ps.load()"
   ]
  },
  {
   "cell_type": "code",
   "execution_count": null,
   "id": "36b9886e",
   "metadata": {},
   "outputs": [],
   "source": [
    "screen_hits = file_hits.load()"
   ]
  },
  {
   "cell_type": "markdown",
   "id": "9bdf36b8",
   "metadata": {},
   "source": [
    "## Perform single cell analysis, integrating the CRISPR screen data"
   ]
  },
  {
   "cell_type": "code",
   "execution_count": null,
   "id": "481a6ef7",
   "metadata": {},
   "outputs": [],
   "source": [
    "sc.tl.score_genes(adata, adata.var_names.intersection(screen_hits.index).tolist())"
   ]
  },
  {
   "cell_type": "code",
   "execution_count": null,
   "id": "30392a7e",
   "metadata": {},
   "outputs": [],
   "source": [
    "sc.pl.umap(adata, color=\"cluster_name\")"
   ]
  },
  {
   "cell_type": "code",
   "execution_count": null,
   "id": "972a5071",
   "metadata": {},
   "outputs": [],
   "source": [
    "sc.pl.umap(adata, color=\"score\")"
   ]
  },
  {
   "cell_type": "code",
   "execution_count": null,
   "id": "4072962b",
   "metadata": {},
   "outputs": [],
   "source": [
    "sc.pl.matrixplot(adata, groupby=\"cluster_name\", var_names=[\"score\"])"
   ]
  },
  {
   "cell_type": "markdown",
   "id": "4aa0cc70",
   "metadata": {},
   "source": [
    "## Ingest the processed dataset into LaminDB"
   ]
  },
  {
   "cell_type": "code",
   "execution_count": null,
   "id": "b5a97c12",
   "metadata": {},
   "outputs": [],
   "source": [
    "file = ln.File(\n",
    "    adata, key=\"perturbseq_analyzed.h5ad\", description=\"analyzed data of perturbseq\"\n",
    ")"
   ]
  },
  {
   "cell_type": "code",
   "execution_count": null,
   "id": "bd34c28b",
   "metadata": {},
   "outputs": [],
   "source": [
    "file.save()"
   ]
  },
  {
   "cell_type": "code",
   "execution_count": null,
   "id": "27b10550",
   "metadata": {},
   "outputs": [],
   "source": [
    "file.view_lineage()"
   ]
  }
 ],
 "metadata": {
  "kernelspec": {
   "display_name": "Python 3 (ipykernel)",
   "language": "python",
   "name": "python3"
  },
  "language_info": {
   "codemirror_mode": {
    "name": "ipython",
    "version": 3
   },
   "file_extension": ".py",
   "mimetype": "text/x-python",
   "name": "python",
   "nbconvert_exporter": "python",
   "pygments_lexer": "ipython3",
   "version": "3.9.16"
  },
  "nbproject": {
   "id": "lEVRZ3cfzpu6",
   "parent": null,
   "pypackage": {
    "lamindb": "0.3.3",
    "scanpy": "1.8.2"
   },
   "time_init": "2022-08-30T22:20:03.913240+00:00",
   "version": "4"
  },
  "vscode": {
   "interpreter": {
    "hash": "ae1fefc8646a06dd2e75004cd934adda7c5727b046986a772e3b44b0ffba9754"
   }
  }
 },
 "nbformat": 4,
 "nbformat_minor": 5
}
