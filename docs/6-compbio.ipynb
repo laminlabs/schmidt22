{
 "cells": [
  {
   "cell_type": "markdown",
   "id": "8b86aba3",
   "metadata": {},
   "source": [
    "# Perform single cell analysis, integrating with CRISPRa screen"
   ]
  },
  {
   "cell_type": "code",
   "execution_count": null,
   "id": "a69a8f5f",
   "metadata": {},
   "outputs": [],
   "source": [
    "import lamindb as ln\n",
    "import scanpy as sc\n",
    "\n",
    "ln.track(\"F4L3oC6QsZvQ0000\")"
   ]
  },
  {
   "cell_type": "markdown",
   "id": "29bb5abf",
   "metadata": {},
   "source": [
    "## Hits from the genome-wide CRISPRa screen"
   ]
  },
  {
   "cell_type": "code",
   "execution_count": null,
   "id": "a68d3e64",
   "metadata": {},
   "outputs": [],
   "source": [
    "artifact_hits = ln.Artifact.filter(description=\"hits from schmidt22 crispra GWS\").one()"
   ]
  },
  {
   "cell_type": "code",
   "execution_count": null,
   "id": "4d8fc08d",
   "metadata": {},
   "outputs": [],
   "source": [
    "artifact_hits.describe()"
   ]
  },
  {
   "cell_type": "code",
   "execution_count": null,
   "id": "c03148a1",
   "metadata": {},
   "outputs": [],
   "source": [
    "screen_hits = artifact_hits.load()"
   ]
  },
  {
   "cell_type": "markdown",
   "id": "c6591ca8",
   "metadata": {},
   "source": [
    "## Perturb-seq data"
   ]
  },
  {
   "cell_type": "code",
   "execution_count": null,
   "id": "abadec06",
   "metadata": {},
   "outputs": [],
   "source": [
    "artifact_ps = ln.Artifact.filter(\n",
    "    description__icontains=\"perturbseq counts\", suffix=\".h5ad\"\n",
    ").one()"
   ]
  },
  {
   "cell_type": "code",
   "execution_count": null,
   "id": "f7d0e399",
   "metadata": {},
   "outputs": [],
   "source": [
    "artifact_ps.describe()"
   ]
  },
  {
   "cell_type": "code",
   "execution_count": null,
   "id": "06254fdf",
   "metadata": {},
   "outputs": [],
   "source": [
    "adata = artifact_ps.load()"
   ]
  },
  {
   "cell_type": "markdown",
   "id": "0cb371a1",
   "metadata": {},
   "source": [
    "## Perform single cell analysis, integrating the CRISPR screen data"
   ]
  },
  {
   "cell_type": "code",
   "execution_count": null,
   "id": "ce747130",
   "metadata": {},
   "outputs": [],
   "source": [
    "sc.tl.score_genes(adata, adata.var_names.intersection(screen_hits.index).tolist())"
   ]
  },
  {
   "cell_type": "code",
   "execution_count": null,
   "id": "b2dbfd8d",
   "metadata": {},
   "outputs": [],
   "source": [
    "sc.pl.umap(adata, color=\"cluster_name\")"
   ]
  },
  {
   "cell_type": "code",
   "execution_count": null,
   "id": "60c0e6e7",
   "metadata": {},
   "outputs": [],
   "source": [
    "sc.pl.umap(adata, color=\"score\")"
   ]
  },
  {
   "cell_type": "code",
   "execution_count": null,
   "id": "d701a3a1",
   "metadata": {},
   "outputs": [],
   "source": [
    "sc.pl.matrixplot(adata, groupby=\"cluster_name\", var_names=[\"score\"])"
   ]
  },
  {
   "cell_type": "markdown",
   "id": "4aa0cc70",
   "metadata": {},
   "source": [
    "## Register the processed data"
   ]
  },
  {
   "cell_type": "code",
   "execution_count": null,
   "id": "b5a97c12",
   "metadata": {},
   "outputs": [],
   "source": [
    "artifact = ln.Artifact.from_anndata(\n",
    "    adata, key=\"perturbseq_analyzed.h5ad\", description=\"analyzed data of perturbseq\"\n",
    ")"
   ]
  },
  {
   "cell_type": "code",
   "execution_count": null,
   "id": "bd34c28b",
   "metadata": {},
   "outputs": [],
   "source": [
    "artifact.save()"
   ]
  },
  {
   "cell_type": "code",
   "execution_count": null,
   "id": "71ac10a3",
   "metadata": {},
   "outputs": [],
   "source": [
    "artifact.features._add_from(artifact_ps)\n",
    "artifact.labels.add_from(artifact_hits)"
   ]
  },
  {
   "cell_type": "code",
   "execution_count": null,
   "id": "8b1b8e9d",
   "metadata": {},
   "outputs": [],
   "source": [
    "artifact.describe()"
   ]
  },
  {
   "cell_type": "code",
   "execution_count": null,
   "id": "27b10550",
   "metadata": {},
   "outputs": [],
   "source": [
    "artifact.view_lineage()"
   ]
  }
 ],
 "metadata": {
  "kernelspec": {
   "display_name": "py310",
   "language": "python",
   "name": "python3"
  },
  "language_info": {
   "codemirror_mode": {
    "name": "ipython",
    "version": 3
   },
   "file_extension": ".py",
   "mimetype": "text/x-python",
   "name": "python",
   "nbconvert_exporter": "python",
   "pygments_lexer": "ipython3",
   "version": "3.10.13"
  }
 },
 "nbformat": 4,
 "nbformat_minor": 5
}
