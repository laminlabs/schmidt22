{
 "cells": [
  {
   "cell_type": "markdown",
   "id": "0",
   "metadata": {},
   "source": [
    "# Analyze scRNS-seq jointly with CRISPRa screening result"
   ]
  },
  {
   "cell_type": "code",
   "execution_count": null,
   "id": "1",
   "metadata": {},
   "outputs": [],
   "source": [
    "%config InlineBackend.figure_formats = ['svg']\n",
    "import lamindb as ln\n",
    "import scanpy as sc\n",
    "\n",
    "ln.track(\"F4L3oC6QsZvQ\", project=\"Schmidt22\")"
   ]
  },
  {
   "cell_type": "markdown",
   "id": "2",
   "metadata": {},
   "source": [
    "Load hits from phenotypic screen."
   ]
  },
  {
   "cell_type": "code",
   "execution_count": null,
   "id": "3",
   "metadata": {},
   "outputs": [],
   "source": [
    "artifact_hits = ln.Artifact.get(key=\"schmidt22/gws-crispr-ifng-hits.parquet\")\n",
    "artifact_hits.describe()\n",
    "screen_hits = artifact_hits.load()\n",
    "screen_hits.head()"
   ]
  },
  {
   "cell_type": "markdown",
   "id": "4",
   "metadata": {},
   "source": [
    "Load the scRNA-seq data."
   ]
  },
  {
   "cell_type": "code",
   "execution_count": null,
   "id": "5",
   "metadata": {},
   "outputs": [],
   "source": [
    "artifact_scrna = ln.Artifact.get(\n",
    "    key=\"schmidt22_perturbseq/schmidt22_perturbseq_ensembl_gene_ids.h5ad\"\n",
    ")\n",
    "artifact_scrna.describe()\n",
    "adata = artifact_scrna.load()\n",
    "adata"
   ]
  },
  {
   "cell_type": "markdown",
   "id": "6",
   "metadata": {},
   "source": [
    "Investigate with which transcriptional states the phenotypic correlate."
   ]
  },
  {
   "cell_type": "code",
   "execution_count": null,
   "id": "7",
   "metadata": {},
   "outputs": [],
   "source": [
    "sc.tl.score_genes(\n",
    "    adata,\n",
    "    adata.var_names.intersection(\n",
    "        screen_hits[\"target_gene_ensembl_id\"],\n",
    "    ).tolist(),\n",
    "    score_name=\"enrichment_score_for_screen_results\",\n",
    ")"
   ]
  },
  {
   "cell_type": "markdown",
   "id": "8",
   "metadata": {},
   "source": [
    "Visualize the results."
   ]
  },
  {
   "cell_type": "code",
   "execution_count": null,
   "id": "9",
   "metadata": {},
   "outputs": [],
   "source": [
    "sc.pl.matrixplot(\n",
    "    adata,\n",
    "    groupby=\"scrna_cell_state\",\n",
    "    var_names=[\"enrichment_score_for_screen_results\"],\n",
    "    swap_axes=True,\n",
    ")"
   ]
  },
  {
   "cell_type": "markdown",
   "id": "10",
   "metadata": {},
   "source": [
    "Also visualize with a UMAP."
   ]
  },
  {
   "cell_type": "code",
   "execution_count": null,
   "id": "11",
   "metadata": {},
   "outputs": [],
   "source": [
    "sc.pl.umap(adata, color=[\"enrichment_score_for_screen_results\", \"scrna_cell_state\"])"
   ]
  },
  {
   "cell_type": "markdown",
   "id": "12",
   "metadata": {},
   "source": [
    "Check the output matrix."
   ]
  },
  {
   "cell_type": "code",
   "execution_count": null,
   "id": "13",
   "metadata": {},
   "outputs": [],
   "source": [
    "adata"
   ]
  },
  {
   "cell_type": "markdown",
   "id": "14",
   "metadata": {},
   "source": [
    "Save the output."
   ]
  },
  {
   "cell_type": "code",
   "execution_count": null,
   "id": "15",
   "metadata": {},
   "outputs": [],
   "source": [
    "artifact_result = ln.Artifact.from_anndata(\n",
    "    adata,\n",
    "    key=\"schmidt22/analyzed_data.h5ad\",\n",
    "    schema=\"ensembl_gene_ids_and_valid_features_in_obs\",\n",
    "    features={\n",
    "        \"experiment\": artifact_scrna.features.get_values()[\"experiment\"],\n",
    "        \"biosample\": artifact_scrna.features.get_values()[\"biosample\"],\n",
    "    },\n",
    ").save()\n",
    "artifact_result.describe()"
   ]
  },
  {
   "cell_type": "code",
   "execution_count": null,
   "id": "16",
   "metadata": {},
   "outputs": [],
   "source": [
    "artifact_result.view_lineage()"
   ]
  },
  {
   "cell_type": "code",
   "execution_count": null,
   "id": "17",
   "metadata": {},
   "outputs": [],
   "source": [
    "ln.finish()"
   ]
  }
 ],
 "metadata": {
  "jupytext": {
   "cell_metadata_filter": "-all",
   "main_language": "python",
   "notebook_metadata_filter": "-all"
  },
  "kernelspec": {
   "display_name": "py312",
   "language": "python",
   "name": "python3"
  },
  "language_info": {
   "codemirror_mode": {
    "name": "ipython",
    "version": 3
   },
   "file_extension": ".py",
   "mimetype": "text/x-python",
   "name": "python",
   "nbconvert_exporter": "python",
   "pygments_lexer": "ipython3",
   "version": "3.12.8"
  }
 },
 "nbformat": 4,
 "nbformat_minor": 5
}
