{
 "cells": [
  {
   "cell_type": "markdown",
   "id": "0",
   "metadata": {},
   "source": [
    "# Curate GWS CRISPR IFNg raw data"
   ]
  },
  {
   "cell_type": "code",
   "execution_count": null,
   "id": "1",
   "metadata": {},
   "outputs": [],
   "source": [
    "import lamindb as ln\n",
    "import bionty as bt\n",
    "\n",
    "ln.track(\"M0BgdFXT7Az7\", project=\"Schmidt22\")"
   ]
  },
  {
   "cell_type": "markdown",
   "id": "2",
   "metadata": {},
   "source": [
    "This raw data was uploaded through the UI."
   ]
  },
  {
   "cell_type": "code",
   "execution_count": null,
   "id": "3",
   "metadata": {},
   "outputs": [],
   "source": [
    "lamindata_artifacts = ln.Artifact.using(\"laminlabs/lamindata\")\n",
    "df = lamindata_artifacts.get(\"MDG7BbeFVPvEyyUb0000\").load()\n",
    "df"
   ]
  },
  {
   "cell_type": "markdown",
   "id": "4",
   "metadata": {},
   "source": [
    "Create dedicated features for this project."
   ]
  },
  {
   "cell_type": "code",
   "execution_count": null,
   "id": "5",
   "metadata": {},
   "outputs": [],
   "source": [
    "schmidt22_features = ln.Feature(\n",
    "    name=\"Schmidt22\",\n",
    "    is_type=True,\n",
    "    description=\"Features from Schmidt et al. 2022, Genome-wide CRISPRa screen with IFN-gamma readout in melanoma cells\",\n",
    ").save()\n",
    "target_gene_symbol = ln.Feature(\n",
    "    name=\"target_gene_symbol\",\n",
    "    dtype=bt.Gene.symbol,\n",
    "    type=schmidt22_features,\n",
    "    description=\"Target gene of CRISPRa experiment\",\n",
    ").save()\n",
    "crispr_ifng_p_value_neg = ln.Feature(\n",
    "    name=\"crispr_ifng_p_value_neg\",\n",
    "    dtype=float,\n",
    "    type=schmidt22_features,\n",
    "    description=\"Negative CRISPR IFN-gamma p-value\",\n",
    ").save()\n",
    "crispr_ifng_p_value_pos = ln.Feature(\n",
    "    name=\"crispr_ifng_p_value_pos\",\n",
    "    dtype=float,\n",
    "    type=schmidt22_features,\n",
    "    description=\"Positive CRISPR IFN-gamma p-value\",\n",
    ").save()"
   ]
  },
  {
   "cell_type": "markdown",
   "id": "6",
   "metadata": {},
   "source": [
    "And a schema."
   ]
  },
  {
   "cell_type": "code",
   "execution_count": null,
   "id": "7",
   "metadata": {},
   "outputs": [],
   "source": [
    "schmidt22_schemas = ln.Schema(\n",
    "    name=\"Schmidt22\",\n",
    "    is_type=True,\n",
    "    description=\"Schemas from Schmidt et al. 2022, Genome-wide CRISPRa screen with IFN-gamma readout in melanoma cells\",\n",
    ").save()\n",
    "schema = ln.Schema(\n",
    "    name=\"GWS_CRISPRa_IFN-gamma_readout\",\n",
    "    features=[target_gene_symbol, crispr_ifng_p_value_neg, crispr_ifng_p_value_pos],\n",
    "    type=schmidt22_schemas,\n",
    "    description=\"Genome-wide CRISPRa screen with IFN-gamma readout in melanoma cells\",\n",
    ").save()\n",
    "schema.describe()"
   ]
  },
  {
   "cell_type": "markdown",
   "id": "8",
   "metadata": {},
   "source": [
    "Rename columns to match schema."
   ]
  },
  {
   "cell_type": "code",
   "execution_count": null,
   "id": "9",
   "metadata": {},
   "outputs": [],
   "source": [
    "df.rename(\n",
    "    columns={\n",
    "        \"gene_target\": \"target_gene_symbol\",\n",
    "        \"neg|p-value\": \"crispr_ifng_p_value_neg\",\n",
    "        \"pos|p-value\": \"crispr_ifng_p_value_pos\",\n",
    "    },\n",
    "    inplace=True,\n",
    ")"
   ]
  },
  {
   "cell_type": "markdown",
   "id": "10",
   "metadata": {},
   "source": [
    "Standardize gene symbols and update gene registry."
   ]
  },
  {
   "cell_type": "code",
   "execution_count": null,
   "id": "11",
   "metadata": {},
   "outputs": [],
   "source": [
    "# standardize gene symbols against public ontology\n",
    "df.target_gene_symbol = bt.Gene.standardize(df.target_gene_symbol)\n",
    "# find those genes that were not validated\n",
    "validated = bt.Gene.validate(df.target_gene_symbol)\n",
    "# add those genes that were not validated to the gene registry\n",
    "bt.Gene.from_values(df.target_gene_symbol[~validated].unique(), create=True).save()"
   ]
  },
  {
   "cell_type": "markdown",
   "id": "12",
   "metadata": {},
   "source": [
    "Make them categorical."
   ]
  },
  {
   "cell_type": "code",
   "execution_count": null,
   "id": "13",
   "metadata": {},
   "outputs": [],
   "source": [
    "df.target_gene_symbol = df.target_gene_symbol.astype(\"category\")"
   ]
  },
  {
   "cell_type": "markdown",
   "id": "14",
   "metadata": {},
   "source": [
    "Inspect result."
   ]
  },
  {
   "cell_type": "code",
   "execution_count": null,
   "id": "15",
   "metadata": {},
   "outputs": [],
   "source": [
    "df.head()"
   ]
  },
  {
   "cell_type": "markdown",
   "id": "16",
   "metadata": {},
   "source": [
    "Save the artifact with validation through `schema`."
   ]
  },
  {
   "cell_type": "code",
   "execution_count": null,
   "id": "17",
   "metadata": {},
   "outputs": [],
   "source": [
    "ln.Artifact.from_dataframe(\n",
    "    df,\n",
    "    key=\"schmidt22/gws-crispr-ifng-readout.parquet\",\n",
    "    description=\"Genome-wide CRISPRa screen with IFN-gamma readout in melanoma cells from Schmidt et al. (2022)\",\n",
    "    schema=schema,\n",
    "    features={\n",
    "        \"biosample\": \"Schmidt22-S001\",\n",
    "        \"experiment\": \"Schmidt22-EXP001\",\n",
    "        \"assays_efo\": [\"gRNA-seq\"],\n",
    "        \"readouts_efo\": [\"interferon gamma\"],\n",
    "        \"original_publication\": \"Schmidt22\",\n",
    "    },\n",
    ").save().describe()"
   ]
  },
  {
   "cell_type": "code",
   "execution_count": null,
   "id": "18",
   "metadata": {},
   "outputs": [],
   "source": [
    "ln.finish()"
   ]
  }
 ],
 "metadata": {
  "kernelspec": {
   "display_name": "py312",
   "language": "python",
   "name": "python3"
  },
  "language_info": {
   "codemirror_mode": {
    "name": "ipython",
    "version": 3
   },
   "file_extension": ".py",
   "mimetype": "text/x-python",
   "name": "python",
   "nbconvert_exporter": "python",
   "pygments_lexer": "ipython3",
   "version": "3.12.8"
  }
 },
 "nbformat": 4,
 "nbformat_minor": 5
}
